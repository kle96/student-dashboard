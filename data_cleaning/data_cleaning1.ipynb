{
 "cells": [
  {
   "cell_type": "markdown",
   "metadata": {},
   "source": [
    "## Khan Academy Math Student Dashboard: Data Cleaning\n",
    "We will be creating a student dashboard that displays each student's progress through Khan Academy Math. The goal is to showcase:\n",
    "- How the student is performing overall and this month?\n",
    "- What is their assignment completion rate?\n",
    "- Which topics are students strongest and weakest in?\n",
    "- The students' percentile in the class?\n",
    "- Is the student growing?\n",
    "\n",
    "We want to automate the dashboarding process for each class in Lyceum Village, grades K-8. We will be testing on grade K-1 students' Khan Academy Math first to create functions and a webpage to showcase their progress.\n",
    "\n",
    "### Import the Data\n",
    "The data imported is for grade K-1. The students' names are already adjusted to an alias name."
   ]
  },
  {
   "cell_type": "code",
   "execution_count": 1,
   "metadata": {},
   "outputs": [],
   "source": [
    "import numpy as np\n",
    "import pandas as pd"
   ]
  },
  {
   "cell_type": "code",
   "execution_count": 2,
   "metadata": {},
   "outputs": [],
   "source": [
    "df = pd.read_csv(\"../Resources/K_1-Math-Anonymous.csv\")"
   ]
  },
  {
   "cell_type": "code",
   "execution_count": 4,
   "metadata": {},
   "outputs": [
    {
     "name": "stdout",
     "output_type": "stream",
     "text": [
      "<class 'pandas.core.frame.DataFrame'>\n",
      "RangeIndex: 266 entries, 0 to 265\n",
      "Data columns (total 12 columns):\n",
      " #   Column                       Non-Null Count  Dtype  \n",
      "---  ------                       --------------  -----  \n",
      " 0   Assignment Name              266 non-null    object \n",
      " 1   Student Name                 266 non-null    object \n",
      " 2   Score At Due Date            26 non-null     float64\n",
      " 3   Score Best Ever              30 non-null     float64\n",
      " 4   Points Possible              30 non-null     float64\n",
      " 5   Number Of Attempts           266 non-null    int64  \n",
      " 6   Most Recent Completion Date  30 non-null     object \n",
      " 7   Start Date                   266 non-null    object \n",
      " 8   Due Date                     266 non-null    object \n",
      " 9   Assignment URL               266 non-null    object \n",
      " 10  Assignment Type              266 non-null    object \n",
      " 11  Due Date (no time)           266 non-null    object \n",
      "dtypes: float64(3), int64(1), object(8)\n",
      "memory usage: 25.1+ KB\n"
     ]
    }
   ],
   "source": [
    "df.info()"
   ]
  },
  {
   "cell_type": "markdown",
   "metadata": {},
   "source": [
    "Our csv dataset will have 11 variables.\n",
    "\n",
    "Types of data:\n",
    "- 3 float: \n",
    "    - Score At Due Date\n",
    "    - Score Best Ever\n",
    "    - Points Possible\n",
    "- 1 integer:\n",
    "    - Number Of Attempts\n",
    "- 7 string:\n",
    "    - Assignment Name\n",
    "    - Student Name\n",
    "    - Most Recent Completion Date\n",
    "    - Start Date\n",
    "    - Due Date\n",
    "    - Assignment URL\n",
    "    - Assignment Type\n",
    "\n",
    "The data type so far matches what they should be.\n",
    "\n",
    "There are 266 rows total. There are missing data in the following columns:\n",
    "- Score At Due Date: 240 missing\n",
    "- Score Best Ever: 224 missing\n",
    "- Points Possible: 224 missing\n",
    "- Most Recent Completion Date: 224 missing\n",
    "\n",
    "They are missing data because some students did not complete their assignments. We will be removing these data in actual student analysis.\n",
    "\n",
    "### Student Anonymity\n",
    "We will need to create a student ID column to give each studketn anonymity on their scores when it is being displayed to other parents.\n",
    "Their ID's will be formatted as so: grade_studentinitial_number <br>\n",
    "\n",
    "Example: G2_KL_1\n",
    "\n",
    "#### Create Student ID\n",
    "We will be automating this system by having it done automatically only once. The application will request the grade level from the user and store the student ID information into a PostgreSQL database."
   ]
  },
  {
   "cell_type": "code",
   "execution_count": 8,
   "metadata": {},
   "outputs": [
    {
     "data": {
      "text/plain": [
       "array(['Ned Ethans', 'Anna Kite', 'April Luna', 'Andy Hong',\n",
       "       'Abby Nguyen', 'Everett Chase', 'Kyle Anderson', 'Kevin Martelle',\n",
       "       'Misa Bing', 'Olsen Le', 'Terry Long'], dtype=object)"
      ]
     },
     "execution_count": 8,
     "metadata": {},
     "output_type": "execute_result"
    }
   ],
   "source": [
    "df['Student Name'].unique()"
   ]
  },
  {
   "cell_type": "code",
   "execution_count": 15,
   "metadata": {},
   "outputs": [],
   "source": [
    "# User input grade level\n",
    "stu_grade = input(\"Enter the student grade level: \")"
   ]
  },
  {
   "cell_type": "code",
   "execution_count": 18,
   "metadata": {},
   "outputs": [
    {
     "data": {
      "text/plain": [
       "['GK1_NE', 'GK1_AK', 'GK1_AL', 'GK1_AH', 'GK1_AN']"
      ]
     },
     "execution_count": 18,
     "metadata": {},
     "output_type": "execute_result"
    }
   ],
   "source": [
    "# Loop through the list of unique students and create their ID\n",
    "stu_id_list = []\n",
    "for name in df['Student Name']:\n",
    "    stu_name = name.split(\" \")\n",
    "    stu_id = \"G\" + stu_grade + \"_\" + stu_name[0][0] + stu_name[1][0]\n",
    "    stu_id_list.append(stu_id)\n",
    "stu_id_list[:5]"
   ]
  },
  {
   "cell_type": "code",
   "execution_count": 20,
   "metadata": {},
   "outputs": [
    {
     "data": {
      "text/plain": [
       "['GK1_NE1', 'GK1_AK1', 'GK1_AL1', 'GK1_AH1', 'GK1_AN1']"
      ]
     },
     "execution_count": 20,
     "metadata": {},
     "output_type": "execute_result"
    }
   ],
   "source": [
    "# Add in the numeric value to account for students with the same initials\n",
    "stu_id_list2 = []\n",
    "if len(df['Student Name']) == len(stu_id_list):\n",
    "    for id in stu_id_list:\n",
    "        # Add 1 at the end because there are no repeated initials\n",
    "        stu_id_list2.append(id + \"1\")\n",
    "else:\n",
    "    # change the number depending on the student name\n",
    "    # current list of students do not have repeated initials. Create a dummy list to test this function on\n",
    "    stu_id_list2\n",
    "stu_id_list2[:5]"
   ]
  },
  {
   "cell_type": "code",
   "execution_count": null,
   "metadata": {},
   "outputs": [],
   "source": []
  }
 ],
 "metadata": {
  "kernelspec": {
   "display_name": "Python 3.9.12 ('base')",
   "language": "python",
   "name": "python3"
  },
  "language_info": {
   "codemirror_mode": {
    "name": "ipython",
    "version": 3
   },
   "file_extension": ".py",
   "mimetype": "text/x-python",
   "name": "python",
   "nbconvert_exporter": "python",
   "pygments_lexer": "ipython3",
   "version": "3.9.12"
  },
  "orig_nbformat": 4,
  "vscode": {
   "interpreter": {
    "hash": "fd5f0602b361fcd80b6e43c9db32d5ff96b182a40640908c77b502a93aa9387e"
   }
  }
 },
 "nbformat": 4,
 "nbformat_minor": 2
}
