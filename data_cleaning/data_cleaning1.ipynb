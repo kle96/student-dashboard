{
 "cells": [
  {
   "cell_type": "markdown",
   "metadata": {},
   "source": [
    "## Khan Academy Math Student Dashboard: Data Cleaning\n",
    "We will be creating a student dashboard that displays each student's progress through Khan Academy Math. The goal is to showcase:\n",
    "- How the student is performing overall and this month?\n",
    "- What is their assignment completion rate?\n",
    "- Which topics are students strongest and weakest in?\n",
    "- The students' percentile in the class?\n",
    "- Is the student growing?\n",
    "\n",
    "We want to automate the dashboarding process for each class in Lyceum Village, grades K-8. We will be testing on grade K-1 students' Khan Academy Math first to create functions and a webpage to showcase their progress.\n",
    "\n",
    "### Import the Data\n",
    "The data imported is for grade K-1. The students' names are already adjusted to an alias name."
   ]
  },
  {
   "cell_type": "code",
   "execution_count": 2,
   "metadata": {},
   "outputs": [],
   "source": [
    "import numpy as np\n",
    "import pandas as pd"
   ]
  },
  {
   "cell_type": "code",
   "execution_count": 16,
   "metadata": {},
   "outputs": [],
   "source": [
    "df = pd.read_csv(\"../Resources/K_1-Math-Anonymous.csv\")"
   ]
  },
  {
   "cell_type": "code",
   "execution_count": 4,
   "metadata": {},
   "outputs": [
    {
     "name": "stdout",
     "output_type": "stream",
     "text": [
      "<class 'pandas.core.frame.DataFrame'>\n",
      "RangeIndex: 266 entries, 0 to 265\n",
      "Data columns (total 12 columns):\n",
      " #   Column                       Non-Null Count  Dtype  \n",
      "---  ------                       --------------  -----  \n",
      " 0   Assignment Name              266 non-null    object \n",
      " 1   Student Name                 266 non-null    object \n",
      " 2   Score At Due Date            26 non-null     float64\n",
      " 3   Score Best Ever              30 non-null     float64\n",
      " 4   Points Possible              30 non-null     float64\n",
      " 5   Number Of Attempts           266 non-null    int64  \n",
      " 6   Most Recent Completion Date  30 non-null     object \n",
      " 7   Start Date                   266 non-null    object \n",
      " 8   Due Date                     266 non-null    object \n",
      " 9   Assignment URL               266 non-null    object \n",
      " 10  Assignment Type              266 non-null    object \n",
      " 11  Due Date (no time)           266 non-null    object \n",
      "dtypes: float64(3), int64(1), object(8)\n",
      "memory usage: 25.1+ KB\n"
     ]
    }
   ],
   "source": [
    "df.info()"
   ]
  },
  {
   "cell_type": "markdown",
   "metadata": {},
   "source": [
    "Our csv dataset will have 11 variables.\n",
    "\n",
    "Types of data:\n",
    "- 3 float: \n",
    "    - Score At Due Date\n",
    "    - Score Best Ever\n",
    "    - Points Possible\n",
    "- 1 integer:\n",
    "    - Number Of Attempts\n",
    "- 7 string:\n",
    "    - Assignment Name\n",
    "    - Student Name\n",
    "    - Most Recent Completion Date\n",
    "    - Start Date\n",
    "    - Due Date\n",
    "    - Assignment URL\n",
    "    - Assignment Type\n",
    "\n",
    "The data type so far matches what they should be.\n",
    "\n",
    "There are 266 rows total. There are missing data in the following columns:\n",
    "- Score At Due Date: 240 missing\n",
    "- Score Best Ever: 224 missing\n",
    "- Points Possible: 224 missing\n",
    "- Most Recent Completion Date: 224 missing\n",
    "\n",
    "They are missing data because some students did not complete their assignments. We will be removing these data in actual student analysis.\n",
    "\n",
    "### Student Anonymity\n",
    "We will need to create a student ID column to give each student anonymity on their scores when it is being displayed to other parents.\n",
    "Their ID's will be formatted as so: grade_studentinitial_number <br>\n",
    "\n",
    "Example: G2_KL_1\n",
    "\n",
    "#### Create Student ID\n",
    "We will be automating this system by having it done automatically only once. The application will request the grade level from the user and store the student ID information into a PostgreSQL database."
   ]
  },
  {
   "cell_type": "code",
   "execution_count": 5,
   "metadata": {},
   "outputs": [
    {
     "data": {
      "text/plain": [
       "array(['Ned Ethans', 'Anna Kite', 'April Luna', 'Andy Hong',\n",
       "       'Abby Nguyen', 'Everett Chase', 'Kyle Anderson', 'Kevin Martelle',\n",
       "       'Misa Bing', 'Olsen Le', 'Terry Long'], dtype=object)"
      ]
     },
     "execution_count": 5,
     "metadata": {},
     "output_type": "execute_result"
    }
   ],
   "source": [
    "df['Student Name'].unique()"
   ]
  },
  {
   "cell_type": "code",
   "execution_count": 6,
   "metadata": {},
   "outputs": [],
   "source": [
    "# User input grade level\n",
    "stu_grade = input(\"Enter the student grade level: \")"
   ]
  },
  {
   "cell_type": "code",
   "execution_count": 7,
   "metadata": {},
   "outputs": [
    {
     "data": {
      "text/plain": [
       "['GK1_NE', 'GK1_AK', 'GK1_AL', 'GK1_AH', 'GK1_AN']"
      ]
     },
     "execution_count": 7,
     "metadata": {},
     "output_type": "execute_result"
    }
   ],
   "source": [
    "# Loop through the list of unique students and create their ID\n",
    "stu_id_list = []\n",
    "for name in df['Student Name']:\n",
    "    stu_name = name.split(\" \")\n",
    "    stu_id = \"G\" + stu_grade + \"_\" + stu_name[0][0] + stu_name[1][0]\n",
    "    stu_id_list.append(stu_id)\n",
    "stu_id_list[:5]"
   ]
  },
  {
   "cell_type": "code",
   "execution_count": 11,
   "metadata": {},
   "outputs": [
    {
     "data": {
      "text/plain": [
       "['GK1_NE1', 'GK1_AK1', 'GK1_AL1', 'GK1_AH1', 'GK1_AN1']"
      ]
     },
     "execution_count": 11,
     "metadata": {},
     "output_type": "execute_result"
    }
   ],
   "source": [
    "# Add in the numeric value to account for students with the same initials\n",
    "stu_id_list2 = []\n",
    "if len(df['Student Name']) == len(stu_id_list):\n",
    "    for id in stu_id_list:\n",
    "        # Add 1 at the end because there are no repeated initials\n",
    "        stu_id_list2.append(id + \"1\")\n",
    "else:\n",
    "    # change the number depending on the student name\n",
    "    # current list of students do not have repeated initials. Create a dummy list to test this function on\n",
    "    stu_id_list2\n",
    "stu_id_list2[:5]"
   ]
  },
  {
   "cell_type": "code",
   "execution_count": 17,
   "metadata": {},
   "outputs": [
    {
     "data": {
      "text/html": [
       "<div>\n",
       "<style scoped>\n",
       "    .dataframe tbody tr th:only-of-type {\n",
       "        vertical-align: middle;\n",
       "    }\n",
       "\n",
       "    .dataframe tbody tr th {\n",
       "        vertical-align: top;\n",
       "    }\n",
       "\n",
       "    .dataframe thead th {\n",
       "        text-align: right;\n",
       "    }\n",
       "</style>\n",
       "<table border=\"1\" class=\"dataframe\">\n",
       "  <thead>\n",
       "    <tr style=\"text-align: right;\">\n",
       "      <th></th>\n",
       "      <th>Student ID</th>\n",
       "      <th>Assignment Name</th>\n",
       "      <th>Student Name</th>\n",
       "      <th>Score At Due Date</th>\n",
       "      <th>Score Best Ever</th>\n",
       "      <th>Points Possible</th>\n",
       "      <th>Number Of Attempts</th>\n",
       "      <th>Most Recent Completion Date</th>\n",
       "      <th>Start Date</th>\n",
       "      <th>Due Date</th>\n",
       "      <th>Assignment URL</th>\n",
       "      <th>Assignment Type</th>\n",
       "      <th>Due Date (no time)</th>\n",
       "    </tr>\n",
       "  </thead>\n",
       "  <tbody>\n",
       "    <tr>\n",
       "      <th>0</th>\n",
       "      <td>GK1_NE1</td>\n",
       "      <td>Comparing numbers to 10</td>\n",
       "      <td>Ned Ethans</td>\n",
       "      <td>NaN</td>\n",
       "      <td>NaN</td>\n",
       "      <td>NaN</td>\n",
       "      <td>0</td>\n",
       "      <td>NaN</td>\n",
       "      <td>Sep 29th, 4:50PM</td>\n",
       "      <td>Oct 8th, 11:59PM</td>\n",
       "      <td>https://www.khanacademy.org/math/cc-kindergart...</td>\n",
       "      <td>Exercise</td>\n",
       "      <td>Oct 8th,</td>\n",
       "    </tr>\n",
       "    <tr>\n",
       "      <th>1</th>\n",
       "      <td>GK1_AK1</td>\n",
       "      <td>Add within 10</td>\n",
       "      <td>Anna Kite</td>\n",
       "      <td>NaN</td>\n",
       "      <td>NaN</td>\n",
       "      <td>NaN</td>\n",
       "      <td>0</td>\n",
       "      <td>NaN</td>\n",
       "      <td>Sep 29th, 4:48PM</td>\n",
       "      <td>Oct 8th, 11:59PM</td>\n",
       "      <td>https://www.khanacademy.org/math/cc-kindergart...</td>\n",
       "      <td>Exercise</td>\n",
       "      <td>Oct 8th,</td>\n",
       "    </tr>\n",
       "    <tr>\n",
       "      <th>2</th>\n",
       "      <td>GK1_AL1</td>\n",
       "      <td>Add within 10</td>\n",
       "      <td>April Luna</td>\n",
       "      <td>NaN</td>\n",
       "      <td>NaN</td>\n",
       "      <td>NaN</td>\n",
       "      <td>0</td>\n",
       "      <td>NaN</td>\n",
       "      <td>Sep 29th, 4:48PM</td>\n",
       "      <td>Oct 8th, 11:59PM</td>\n",
       "      <td>https://www.khanacademy.org/math/cc-kindergart...</td>\n",
       "      <td>Exercise</td>\n",
       "      <td>Oct 8th,</td>\n",
       "    </tr>\n",
       "    <tr>\n",
       "      <th>3</th>\n",
       "      <td>GK1_AH1</td>\n",
       "      <td>Add within 10</td>\n",
       "      <td>Andy Hong</td>\n",
       "      <td>NaN</td>\n",
       "      <td>NaN</td>\n",
       "      <td>NaN</td>\n",
       "      <td>0</td>\n",
       "      <td>NaN</td>\n",
       "      <td>Sep 29th, 4:48PM</td>\n",
       "      <td>Oct 8th, 11:59PM</td>\n",
       "      <td>https://www.khanacademy.org/math/cc-kindergart...</td>\n",
       "      <td>Exercise</td>\n",
       "      <td>Oct 8th,</td>\n",
       "    </tr>\n",
       "    <tr>\n",
       "      <th>4</th>\n",
       "      <td>GK1_AN1</td>\n",
       "      <td>Add within 10</td>\n",
       "      <td>Abby Nguyen</td>\n",
       "      <td>NaN</td>\n",
       "      <td>NaN</td>\n",
       "      <td>NaN</td>\n",
       "      <td>0</td>\n",
       "      <td>NaN</td>\n",
       "      <td>Sep 29th, 4:48PM</td>\n",
       "      <td>Oct 8th, 11:59PM</td>\n",
       "      <td>https://www.khanacademy.org/math/cc-kindergart...</td>\n",
       "      <td>Exercise</td>\n",
       "      <td>Oct 8th,</td>\n",
       "    </tr>\n",
       "  </tbody>\n",
       "</table>\n",
       "</div>"
      ],
      "text/plain": [
       "  Student ID          Assignment Name Student Name  Score At Due Date  \\\n",
       "0    GK1_NE1  Comparing numbers to 10   Ned Ethans                NaN   \n",
       "1    GK1_AK1            Add within 10    Anna Kite                NaN   \n",
       "2    GK1_AL1            Add within 10   April Luna                NaN   \n",
       "3    GK1_AH1            Add within 10    Andy Hong                NaN   \n",
       "4    GK1_AN1            Add within 10  Abby Nguyen                NaN   \n",
       "\n",
       "   Score Best Ever  Points Possible  Number Of Attempts  \\\n",
       "0              NaN              NaN                   0   \n",
       "1              NaN              NaN                   0   \n",
       "2              NaN              NaN                   0   \n",
       "3              NaN              NaN                   0   \n",
       "4              NaN              NaN                   0   \n",
       "\n",
       "  Most Recent Completion Date        Start Date          Due Date  \\\n",
       "0                         NaN  Sep 29th, 4:50PM  Oct 8th, 11:59PM   \n",
       "1                         NaN  Sep 29th, 4:48PM  Oct 8th, 11:59PM   \n",
       "2                         NaN  Sep 29th, 4:48PM  Oct 8th, 11:59PM   \n",
       "3                         NaN  Sep 29th, 4:48PM  Oct 8th, 11:59PM   \n",
       "4                         NaN  Sep 29th, 4:48PM  Oct 8th, 11:59PM   \n",
       "\n",
       "                                      Assignment URL Assignment Type  \\\n",
       "0  https://www.khanacademy.org/math/cc-kindergart...        Exercise   \n",
       "1  https://www.khanacademy.org/math/cc-kindergart...        Exercise   \n",
       "2  https://www.khanacademy.org/math/cc-kindergart...        Exercise   \n",
       "3  https://www.khanacademy.org/math/cc-kindergart...        Exercise   \n",
       "4  https://www.khanacademy.org/math/cc-kindergart...        Exercise   \n",
       "\n",
       "  Due Date (no time)  \n",
       "0          Oct 8th,   \n",
       "1          Oct 8th,   \n",
       "2          Oct 8th,   \n",
       "3          Oct 8th,   \n",
       "4          Oct 8th,   "
      ]
     },
     "execution_count": 17,
     "metadata": {},
     "output_type": "execute_result"
    }
   ],
   "source": [
    "# Add id column to the front of the dataframe\n",
    "df.insert(loc=0, column='Student ID', value=stu_id_list2)\n",
    "df.head()"
   ]
  },
  {
   "cell_type": "markdown",
   "metadata": {},
   "source": [
    "## Missing Data\n",
    "NaN in the Score At Due Date, Score Best Ever, and Points Possible columns means that students did not complete their assignment. Thus, we will need to create a column that states the completion of their assignment.\n",
    "\n",
    "Create a column with these values:\n",
    "- Missing: Has 0 as the Number Of Attempts\n",
    "- Complete: Has 1 or higher Number of Attempts and the Most Recent Completion Date is before or on the Due Date\n",
    "- Late: Has 1 or more Number Of Attempts and the Most Recent Completion Date is past the Due Date"
   ]
  },
  {
   "cell_type": "markdown",
   "metadata": {},
   "source": [
    "### Convert Date Columns to Date type\n",
    "Convert the two columns from string object to date:\n",
    "- Most Recent Completion Date\n",
    "- Due Date"
   ]
  },
  {
   "cell_type": "code",
   "execution_count": 42,
   "metadata": {},
   "outputs": [
    {
     "data": {
      "text/html": [
       "<div>\n",
       "<style scoped>\n",
       "    .dataframe tbody tr th:only-of-type {\n",
       "        vertical-align: middle;\n",
       "    }\n",
       "\n",
       "    .dataframe tbody tr th {\n",
       "        vertical-align: top;\n",
       "    }\n",
       "\n",
       "    .dataframe thead th {\n",
       "        text-align: right;\n",
       "    }\n",
       "</style>\n",
       "<table border=\"1\" class=\"dataframe\">\n",
       "  <thead>\n",
       "    <tr style=\"text-align: right;\">\n",
       "      <th></th>\n",
       "      <th>Student ID</th>\n",
       "      <th>Assignment Name</th>\n",
       "      <th>Student Name</th>\n",
       "      <th>Score At Due Date</th>\n",
       "      <th>Score Best Ever</th>\n",
       "      <th>Points Possible</th>\n",
       "      <th>Number Of Attempts</th>\n",
       "      <th>Most Recent Completion Date</th>\n",
       "      <th>Start Date</th>\n",
       "      <th>Due Date</th>\n",
       "      <th>Assignment URL</th>\n",
       "      <th>Assignment Type</th>\n",
       "      <th>Due Date (no time)</th>\n",
       "    </tr>\n",
       "  </thead>\n",
       "  <tbody>\n",
       "    <tr>\n",
       "      <th>96</th>\n",
       "      <td>GK1_KM1</td>\n",
       "      <td>Counting: Unit test</td>\n",
       "      <td>Kevin Martelle</td>\n",
       "      <td>13.0</td>\n",
       "      <td>13.0</td>\n",
       "      <td>13.0</td>\n",
       "      <td>2</td>\n",
       "      <td>Sep 20th, 4:55PM</td>\n",
       "      <td>Sep 10th, 10:33AM</td>\n",
       "      <td>Sep 24th, 11:59PM</td>\n",
       "      <td>https://www.khanacademy.org/math/early-math/cc...</td>\n",
       "      <td>Unit Test</td>\n",
       "      <td>Sep 24th,</td>\n",
       "    </tr>\n",
       "    <tr>\n",
       "      <th>100</th>\n",
       "      <td>GK1_TL1</td>\n",
       "      <td>Counting: Unit test</td>\n",
       "      <td>Terry Long</td>\n",
       "      <td>13.0</td>\n",
       "      <td>13.0</td>\n",
       "      <td>13.0</td>\n",
       "      <td>1</td>\n",
       "      <td>Sep 20th, 4:42PM</td>\n",
       "      <td>Sep 10th, 10:33AM</td>\n",
       "      <td>Sep 24th, 11:59PM</td>\n",
       "      <td>https://www.khanacademy.org/math/early-math/cc...</td>\n",
       "      <td>Unit Test</td>\n",
       "      <td>Sep 24th,</td>\n",
       "    </tr>\n",
       "    <tr>\n",
       "      <th>107</th>\n",
       "      <td>GK1_KM1</td>\n",
       "      <td>Add within 5</td>\n",
       "      <td>Kevin Martelle</td>\n",
       "      <td>7.0</td>\n",
       "      <td>7.0</td>\n",
       "      <td>7.0</td>\n",
       "      <td>1</td>\n",
       "      <td>Sep 20th, 5:01PM</td>\n",
       "      <td>Sep 10th, 10:33AM</td>\n",
       "      <td>Sep 24th, 11:59PM</td>\n",
       "      <td>https://www.khanacademy.org/math/cc-kindergart...</td>\n",
       "      <td>Exercise</td>\n",
       "      <td>Sep 24th,</td>\n",
       "    </tr>\n",
       "    <tr>\n",
       "      <th>111</th>\n",
       "      <td>GK1_TL1</td>\n",
       "      <td>Add within 5</td>\n",
       "      <td>Terry Long</td>\n",
       "      <td>7.0</td>\n",
       "      <td>7.0</td>\n",
       "      <td>7.0</td>\n",
       "      <td>1</td>\n",
       "      <td>Sep 20th, 4:50PM</td>\n",
       "      <td>Sep 10th, 10:33AM</td>\n",
       "      <td>Sep 24th, 11:59PM</td>\n",
       "      <td>https://www.khanacademy.org/math/cc-kindergart...</td>\n",
       "      <td>Exercise</td>\n",
       "      <td>Sep 24th,</td>\n",
       "    </tr>\n",
       "    <tr>\n",
       "      <th>118</th>\n",
       "      <td>GK1_KM1</td>\n",
       "      <td>Subtract within 5</td>\n",
       "      <td>Kevin Martelle</td>\n",
       "      <td>7.0</td>\n",
       "      <td>7.0</td>\n",
       "      <td>7.0</td>\n",
       "      <td>1</td>\n",
       "      <td>Sep 20th, 5:04PM</td>\n",
       "      <td>Sep 10th, 10:33AM</td>\n",
       "      <td>Sep 24th, 11:59PM</td>\n",
       "      <td>https://www.khanacademy.org/math/cc-kindergart...</td>\n",
       "      <td>Exercise</td>\n",
       "      <td>Sep 24th,</td>\n",
       "    </tr>\n",
       "  </tbody>\n",
       "</table>\n",
       "</div>"
      ],
      "text/plain": [
       "    Student ID      Assignment Name    Student Name  Score At Due Date  \\\n",
       "96     GK1_KM1  Counting: Unit test  Kevin Martelle               13.0   \n",
       "100    GK1_TL1  Counting: Unit test      Terry Long               13.0   \n",
       "107    GK1_KM1         Add within 5  Kevin Martelle                7.0   \n",
       "111    GK1_TL1         Add within 5      Terry Long                7.0   \n",
       "118    GK1_KM1    Subtract within 5  Kevin Martelle                7.0   \n",
       "\n",
       "     Score Best Ever  Points Possible  Number Of Attempts  \\\n",
       "96              13.0             13.0                   2   \n",
       "100             13.0             13.0                   1   \n",
       "107              7.0              7.0                   1   \n",
       "111              7.0              7.0                   1   \n",
       "118              7.0              7.0                   1   \n",
       "\n",
       "    Most Recent Completion Date         Start Date           Due Date  \\\n",
       "96             Sep 20th, 4:55PM  Sep 10th, 10:33AM  Sep 24th, 11:59PM   \n",
       "100            Sep 20th, 4:42PM  Sep 10th, 10:33AM  Sep 24th, 11:59PM   \n",
       "107            Sep 20th, 5:01PM  Sep 10th, 10:33AM  Sep 24th, 11:59PM   \n",
       "111            Sep 20th, 4:50PM  Sep 10th, 10:33AM  Sep 24th, 11:59PM   \n",
       "118            Sep 20th, 5:04PM  Sep 10th, 10:33AM  Sep 24th, 11:59PM   \n",
       "\n",
       "                                        Assignment URL Assignment Type  \\\n",
       "96   https://www.khanacademy.org/math/early-math/cc...       Unit Test   \n",
       "100  https://www.khanacademy.org/math/early-math/cc...       Unit Test   \n",
       "107  https://www.khanacademy.org/math/cc-kindergart...        Exercise   \n",
       "111  https://www.khanacademy.org/math/cc-kindergart...        Exercise   \n",
       "118  https://www.khanacademy.org/math/cc-kindergart...        Exercise   \n",
       "\n",
       "    Due Date (no time)  \n",
       "96          Sep 24th,   \n",
       "100         Sep 24th,   \n",
       "107         Sep 24th,   \n",
       "111         Sep 24th,   \n",
       "118         Sep 24th,   "
      ]
     },
     "execution_count": 42,
     "metadata": {},
     "output_type": "execute_result"
    }
   ],
   "source": [
    "# Find the rows with no missing data\n",
    "df_val = df[df['Most Recent Completion Date'].isna()==False]\n",
    "df_val.head()"
   ]
  },
  {
   "cell_type": "code",
   "execution_count": 47,
   "metadata": {},
   "outputs": [],
   "source": [
    "import datetime\n",
    "test_due_date = df_val['Due Date'][96]\n",
    "test_comp_date = df_val['Most Recent Completion Date'][96]"
   ]
  },
  {
   "cell_type": "code",
   "execution_count": 48,
   "metadata": {},
   "outputs": [
    {
     "data": {
      "text/plain": [
       "'Sep 20th, 4:55PM'"
      ]
     },
     "execution_count": 48,
     "metadata": {},
     "output_type": "execute_result"
    }
   ],
   "source": [
    "test_comp_date"
   ]
  },
  {
   "cell_type": "code",
   "execution_count": 49,
   "metadata": {},
   "outputs": [
    {
     "data": {
      "text/plain": [
       "'Sep 24th, 11:59PM'"
      ]
     },
     "execution_count": 49,
     "metadata": {},
     "output_type": "execute_result"
    }
   ],
   "source": [
    "test_due_date"
   ]
  },
  {
   "cell_type": "code",
   "execution_count": 52,
   "metadata": {},
   "outputs": [],
   "source": [
    "import re"
   ]
  },
  {
   "cell_type": "code",
   "execution_count": 57,
   "metadata": {},
   "outputs": [
    {
     "data": {
      "text/plain": [
       "['Sep', '24th', '11:59PM']"
      ]
     },
     "execution_count": 57,
     "metadata": {},
     "output_type": "execute_result"
    }
   ],
   "source": [
    "test_split1 = re.split(\", | \", test_due_date)\n",
    "test_split1"
   ]
  },
  {
   "cell_type": "code",
   "execution_count": 58,
   "metadata": {},
   "outputs": [
    {
     "data": {
      "text/plain": [
       "'24'"
      ]
     },
     "execution_count": 58,
     "metadata": {},
     "output_type": "execute_result"
    }
   ],
   "source": [
    "re.findall('\\d+', test_split1[1])[0]"
   ]
  },
  {
   "cell_type": "code",
   "execution_count": null,
   "metadata": {},
   "outputs": [],
   "source": [
    "# Function to convert the date from string type to date type\n",
    "import datetime\n",
    "import re\n",
    "def convertDate(date_str):\n",
    "    split_date = re.split(\", | \", date_str) # Splits the date into Month, Day, Time\n",
    "    day_num = int(re.findall('\\d+', split_date[1])[0]) # Removes letters from the day. Example: 8th becomes 8\n",
    "    "
   ]
  },
  {
   "cell_type": "code",
   "execution_count": 28,
   "metadata": {},
   "outputs": [
    {
     "ename": "IndexError",
     "evalue": "string index out of range",
     "output_type": "error",
     "traceback": [
      "\u001b[1;31m---------------------------------------------------------------------------\u001b[0m",
      "\u001b[1;31mIndexError\u001b[0m                                Traceback (most recent call last)",
      "\u001b[1;32mc:\\Users\\krist\\DataClass2\\student-dashboard\\data_cleaning\\data_cleaning1.ipynb Cell 12\u001b[0m in \u001b[0;36m<cell line: 5>\u001b[1;34m()\u001b[0m\n\u001b[0;32m      <a href='vscode-notebook-cell:/c%3A/Users/krist/DataClass2/student-dashboard/data_cleaning/data_cleaning1.ipynb#ch0000013?line=6'>7</a>\u001b[0m     progress_list\u001b[39m.\u001b[39mappend(\u001b[39m'\u001b[39m\u001b[39mMissing\u001b[39m\u001b[39m'\u001b[39m)\n\u001b[0;32m      <a href='vscode-notebook-cell:/c%3A/Users/krist/DataClass2/student-dashboard/data_cleaning/data_cleaning1.ipynb#ch0000013?line=7'>8</a>\u001b[0m \u001b[39melse\u001b[39;00m:\n\u001b[1;32m----> <a href='vscode-notebook-cell:/c%3A/Users/krist/DataClass2/student-dashboard/data_cleaning/data_cleaning1.ipynb#ch0000013?line=8'>9</a>\u001b[0m     \u001b[39mif\u001b[39;00m i[index_duedate] \u001b[39m>\u001b[39m i[index_compdate]:\n\u001b[0;32m     <a href='vscode-notebook-cell:/c%3A/Users/krist/DataClass2/student-dashboard/data_cleaning/data_cleaning1.ipynb#ch0000013?line=9'>10</a>\u001b[0m         progress_list\u001b[39m.\u001b[39mappend(\u001b[39m'\u001b[39m\u001b[39mComplete\u001b[39m\u001b[39m'\u001b[39m)\n\u001b[0;32m     <a href='vscode-notebook-cell:/c%3A/Users/krist/DataClass2/student-dashboard/data_cleaning/data_cleaning1.ipynb#ch0000013?line=10'>11</a>\u001b[0m     \u001b[39melse\u001b[39;00m:\n",
      "\u001b[1;31mIndexError\u001b[0m: string index out of range"
     ]
    }
   ],
   "source": [
    "progress_list = []\n",
    "index_attempts = df.columns.get_loc('Number Of Attempts')\n",
    "index_duedate = df.columns.get_loc('Due Date')\n",
    "index_compdate = df.columns.get_loc('Most Recent Completion Date')\n",
    "for i in df:\n",
    "    if i[index_attempts] == 0:\n",
    "        progress_list.append('Missing')\n",
    "    else:\n",
    "        if i[index_duedate] > i[index_compdate]:\n",
    "            progress_list.append('Complete')\n",
    "        else:\n",
    "            progress_list.append('Late')"
   ]
  },
  {
   "cell_type": "code",
   "execution_count": 30,
   "metadata": {},
   "outputs": [
    {
     "ename": "TypeError",
     "evalue": "must be real number, not str",
     "output_type": "error",
     "traceback": [
      "\u001b[1;31m---------------------------------------------------------------------------\u001b[0m",
      "\u001b[1;31mTypeError\u001b[0m                                 Traceback (most recent call last)",
      "\u001b[1;32mc:\\Users\\krist\\DataClass2\\student-dashboard\\data_cleaning\\data_cleaning1.ipynb Cell 13\u001b[0m in \u001b[0;36m<cell line: 2>\u001b[1;34m()\u001b[0m\n\u001b[0;32m      <a href='vscode-notebook-cell:/c%3A/Users/krist/DataClass2/student-dashboard/data_cleaning/data_cleaning1.ipynb#ch0000015?line=0'>1</a>\u001b[0m \u001b[39mimport\u001b[39;00m \u001b[39mmath\u001b[39;00m\n\u001b[1;32m----> <a href='vscode-notebook-cell:/c%3A/Users/krist/DataClass2/student-dashboard/data_cleaning/data_cleaning1.ipynb#ch0000015?line=1'>2</a>\u001b[0m df[\u001b[39m'\u001b[39;49m\u001b[39mMost Recent Completion Date\u001b[39;49m\u001b[39m'\u001b[39;49m]\u001b[39m.\u001b[39;49mapply(\u001b[39mlambda\u001b[39;49;00m x: math\u001b[39m.\u001b[39;49misnan(x)) \u001b[39m==\u001b[39m \u001b[39mFalse\u001b[39;00m\n",
      "File \u001b[1;32mc:\\Users\\krist\\anaconda3\\lib\\site-packages\\pandas\\core\\series.py:4433\u001b[0m, in \u001b[0;36mSeries.apply\u001b[1;34m(self, func, convert_dtype, args, **kwargs)\u001b[0m\n\u001b[0;32m   4323\u001b[0m \u001b[39mdef\u001b[39;00m \u001b[39mapply\u001b[39m(\n\u001b[0;32m   4324\u001b[0m     \u001b[39mself\u001b[39m,\n\u001b[0;32m   4325\u001b[0m     func: AggFuncType,\n\u001b[1;32m   (...)\u001b[0m\n\u001b[0;32m   4328\u001b[0m     \u001b[39m*\u001b[39m\u001b[39m*\u001b[39mkwargs,\n\u001b[0;32m   4329\u001b[0m ) \u001b[39m-\u001b[39m\u001b[39m>\u001b[39m DataFrame \u001b[39m|\u001b[39m Series:\n\u001b[0;32m   4330\u001b[0m     \u001b[39m\"\"\"\u001b[39;00m\n\u001b[0;32m   4331\u001b[0m \u001b[39m    Invoke function on values of Series.\u001b[39;00m\n\u001b[0;32m   4332\u001b[0m \n\u001b[1;32m   (...)\u001b[0m\n\u001b[0;32m   4431\u001b[0m \u001b[39m    dtype: float64\u001b[39;00m\n\u001b[0;32m   4432\u001b[0m \u001b[39m    \"\"\"\u001b[39;00m\n\u001b[1;32m-> 4433\u001b[0m     \u001b[39mreturn\u001b[39;00m SeriesApply(\u001b[39mself\u001b[39;49m, func, convert_dtype, args, kwargs)\u001b[39m.\u001b[39;49mapply()\n",
      "File \u001b[1;32mc:\\Users\\krist\\anaconda3\\lib\\site-packages\\pandas\\core\\apply.py:1082\u001b[0m, in \u001b[0;36mSeriesApply.apply\u001b[1;34m(self)\u001b[0m\n\u001b[0;32m   1078\u001b[0m \u001b[39mif\u001b[39;00m \u001b[39misinstance\u001b[39m(\u001b[39mself\u001b[39m\u001b[39m.\u001b[39mf, \u001b[39mstr\u001b[39m):\n\u001b[0;32m   1079\u001b[0m     \u001b[39m# if we are a string, try to dispatch\u001b[39;00m\n\u001b[0;32m   1080\u001b[0m     \u001b[39mreturn\u001b[39;00m \u001b[39mself\u001b[39m\u001b[39m.\u001b[39mapply_str()\n\u001b[1;32m-> 1082\u001b[0m \u001b[39mreturn\u001b[39;00m \u001b[39mself\u001b[39;49m\u001b[39m.\u001b[39;49mapply_standard()\n",
      "File \u001b[1;32mc:\\Users\\krist\\anaconda3\\lib\\site-packages\\pandas\\core\\apply.py:1137\u001b[0m, in \u001b[0;36mSeriesApply.apply_standard\u001b[1;34m(self)\u001b[0m\n\u001b[0;32m   1131\u001b[0m         values \u001b[39m=\u001b[39m obj\u001b[39m.\u001b[39mastype(\u001b[39mobject\u001b[39m)\u001b[39m.\u001b[39m_values\n\u001b[0;32m   1132\u001b[0m         \u001b[39m# error: Argument 2 to \"map_infer\" has incompatible type\u001b[39;00m\n\u001b[0;32m   1133\u001b[0m         \u001b[39m# \"Union[Callable[..., Any], str, List[Union[Callable[..., Any], str]],\u001b[39;00m\n\u001b[0;32m   1134\u001b[0m         \u001b[39m# Dict[Hashable, Union[Union[Callable[..., Any], str],\u001b[39;00m\n\u001b[0;32m   1135\u001b[0m         \u001b[39m# List[Union[Callable[..., Any], str]]]]]\"; expected\u001b[39;00m\n\u001b[0;32m   1136\u001b[0m         \u001b[39m# \"Callable[[Any], Any]\"\u001b[39;00m\n\u001b[1;32m-> 1137\u001b[0m         mapped \u001b[39m=\u001b[39m lib\u001b[39m.\u001b[39;49mmap_infer(\n\u001b[0;32m   1138\u001b[0m             values,\n\u001b[0;32m   1139\u001b[0m             f,  \u001b[39m# type: ignore[arg-type]\u001b[39;49;00m\n\u001b[0;32m   1140\u001b[0m             convert\u001b[39m=\u001b[39;49m\u001b[39mself\u001b[39;49m\u001b[39m.\u001b[39;49mconvert_dtype,\n\u001b[0;32m   1141\u001b[0m         )\n\u001b[0;32m   1143\u001b[0m \u001b[39mif\u001b[39;00m \u001b[39mlen\u001b[39m(mapped) \u001b[39mand\u001b[39;00m \u001b[39misinstance\u001b[39m(mapped[\u001b[39m0\u001b[39m], ABCSeries):\n\u001b[0;32m   1144\u001b[0m     \u001b[39m# GH#43986 Need to do list(mapped) in order to get treated as nested\u001b[39;00m\n\u001b[0;32m   1145\u001b[0m     \u001b[39m#  See also GH#25959 regarding EA support\u001b[39;00m\n\u001b[0;32m   1146\u001b[0m     \u001b[39mreturn\u001b[39;00m obj\u001b[39m.\u001b[39m_constructor_expanddim(\u001b[39mlist\u001b[39m(mapped), index\u001b[39m=\u001b[39mobj\u001b[39m.\u001b[39mindex)\n",
      "File \u001b[1;32mc:\\Users\\krist\\anaconda3\\lib\\site-packages\\pandas\\_libs\\lib.pyx:2870\u001b[0m, in \u001b[0;36mpandas._libs.lib.map_infer\u001b[1;34m()\u001b[0m\n",
      "\u001b[1;32mc:\\Users\\krist\\DataClass2\\student-dashboard\\data_cleaning\\data_cleaning1.ipynb Cell 13\u001b[0m in \u001b[0;36m<lambda>\u001b[1;34m(x)\u001b[0m\n\u001b[0;32m      <a href='vscode-notebook-cell:/c%3A/Users/krist/DataClass2/student-dashboard/data_cleaning/data_cleaning1.ipynb#ch0000015?line=0'>1</a>\u001b[0m \u001b[39mimport\u001b[39;00m \u001b[39mmath\u001b[39;00m\n\u001b[1;32m----> <a href='vscode-notebook-cell:/c%3A/Users/krist/DataClass2/student-dashboard/data_cleaning/data_cleaning1.ipynb#ch0000015?line=1'>2</a>\u001b[0m df[\u001b[39m'\u001b[39m\u001b[39mMost Recent Completion Date\u001b[39m\u001b[39m'\u001b[39m]\u001b[39m.\u001b[39mapply(\u001b[39mlambda\u001b[39;00m x: math\u001b[39m.\u001b[39;49misnan(x)) \u001b[39m==\u001b[39m \u001b[39mFalse\u001b[39;00m\n",
      "\u001b[1;31mTypeError\u001b[0m: must be real number, not str"
     ]
    }
   ],
   "source": [
    "import math\n",
    "df['Number'].apply(lambda x: math.isnan(x)) == False"
   ]
  },
  {
   "cell_type": "code",
   "execution_count": 29,
   "metadata": {},
   "outputs": [
    {
     "data": {
      "text/plain": [
       "0    NaN\n",
       "1    NaN\n",
       "2    NaN\n",
       "3    NaN\n",
       "4    NaN\n",
       "Name: Most Recent Completion Date, dtype: object"
      ]
     },
     "execution_count": 29,
     "metadata": {},
     "output_type": "execute_result"
    }
   ],
   "source": [
    "df.loc[df['Most Recent Completion Date'].isnan() = False]"
   ]
  },
  {
   "cell_type": "code",
   "execution_count": 35,
   "metadata": {},
   "outputs": [
    {
     "data": {
      "text/plain": [
       "Student ID                      object\n",
       "Assignment Name                 object\n",
       "Student Name                    object\n",
       "Score At Due Date              float64\n",
       "Score Best Ever                float64\n",
       "Points Possible                float64\n",
       "Number Of Attempts               int64\n",
       "Most Recent Completion Date     object\n",
       "Start Date                      object\n",
       "Due Date                        object\n",
       "Assignment URL                  object\n",
       "Assignment Type                 object\n",
       "Due Date (no time)              object\n",
       "dtype: object"
      ]
     },
     "execution_count": 35,
     "metadata": {},
     "output_type": "execute_result"
    }
   ],
   "source": [
    "df.dtypes"
   ]
  }
 ],
 "metadata": {
  "kernelspec": {
   "display_name": "Python 3.9.12 ('base')",
   "language": "python",
   "name": "python3"
  },
  "language_info": {
   "codemirror_mode": {
    "name": "ipython",
    "version": 3
   },
   "file_extension": ".py",
   "mimetype": "text/x-python",
   "name": "python",
   "nbconvert_exporter": "python",
   "pygments_lexer": "ipython3",
   "version": "3.9.12"
  },
  "orig_nbformat": 4,
  "vscode": {
   "interpreter": {
    "hash": "fd5f0602b361fcd80b6e43c9db32d5ff96b182a40640908c77b502a93aa9387e"
   }
  }
 },
 "nbformat": 4,
 "nbformat_minor": 2
}
