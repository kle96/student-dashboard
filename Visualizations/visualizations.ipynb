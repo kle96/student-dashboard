{
 "cells": [
  {
   "cell_type": "code",
   "execution_count": 1,
   "metadata": {},
   "outputs": [],
   "source": [
    "import plotly.graph_objects as go\n",
    "from plotly.subplots import make_subplots\n",
    "import plotly.express as px\n",
    "import pandas as pd"
   ]
  },
  {
   "cell_type": "code",
   "execution_count": 2,
   "metadata": {},
   "outputs": [
    {
     "data": {
      "text/html": [
       "<div>\n",
       "<style scoped>\n",
       "    .dataframe tbody tr th:only-of-type {\n",
       "        vertical-align: middle;\n",
       "    }\n",
       "\n",
       "    .dataframe tbody tr th {\n",
       "        vertical-align: top;\n",
       "    }\n",
       "\n",
       "    .dataframe thead th {\n",
       "        text-align: right;\n",
       "    }\n",
       "</style>\n",
       "<table border=\"1\" class=\"dataframe\">\n",
       "  <thead>\n",
       "    <tr style=\"text-align: right;\">\n",
       "      <th></th>\n",
       "      <th>Class Grade Level</th>\n",
       "      <th>Student ID</th>\n",
       "      <th>Assignment Name</th>\n",
       "      <th>Score Best Ever</th>\n",
       "      <th>Points Possible</th>\n",
       "      <th>Number Of Attempts</th>\n",
       "      <th>Most Recent Completion Date</th>\n",
       "      <th>Start Date</th>\n",
       "      <th>Due Date</th>\n",
       "      <th>Assignment Type</th>\n",
       "      <th>Progress</th>\n",
       "      <th>Assignment Grade Level</th>\n",
       "      <th>Unit Topic</th>\n",
       "      <th>Average Number Of Attempts</th>\n",
       "      <th>Weighted Score</th>\n",
       "    </tr>\n",
       "  </thead>\n",
       "  <tbody>\n",
       "    <tr>\n",
       "      <th>0</th>\n",
       "      <td>K1</td>\n",
       "      <td>GK1_AK1</td>\n",
       "      <td>Add within 10</td>\n",
       "      <td>0.0</td>\n",
       "      <td>10.0</td>\n",
       "      <td>0</td>\n",
       "      <td>NaN</td>\n",
       "      <td>Sep 29th, 4:48PM</td>\n",
       "      <td>Oct 8th, 11:59PM</td>\n",
       "      <td>Exercise</td>\n",
       "      <td>Missing</td>\n",
       "      <td>kindergarten</td>\n",
       "      <td>add-subtract</td>\n",
       "      <td>0.0</td>\n",
       "      <td>0.0</td>\n",
       "    </tr>\n",
       "    <tr>\n",
       "      <th>1</th>\n",
       "      <td>K1</td>\n",
       "      <td>GK1_AL1</td>\n",
       "      <td>Add within 10</td>\n",
       "      <td>0.0</td>\n",
       "      <td>10.0</td>\n",
       "      <td>0</td>\n",
       "      <td>NaN</td>\n",
       "      <td>Sep 29th, 4:48PM</td>\n",
       "      <td>Oct 8th, 11:59PM</td>\n",
       "      <td>Exercise</td>\n",
       "      <td>Missing</td>\n",
       "      <td>kindergarten</td>\n",
       "      <td>add-subtract</td>\n",
       "      <td>0.0</td>\n",
       "      <td>0.0</td>\n",
       "    </tr>\n",
       "    <tr>\n",
       "      <th>2</th>\n",
       "      <td>K1</td>\n",
       "      <td>GK1_AH1</td>\n",
       "      <td>Add within 10</td>\n",
       "      <td>0.0</td>\n",
       "      <td>10.0</td>\n",
       "      <td>0</td>\n",
       "      <td>NaN</td>\n",
       "      <td>Sep 29th, 4:48PM</td>\n",
       "      <td>Oct 8th, 11:59PM</td>\n",
       "      <td>Exercise</td>\n",
       "      <td>Missing</td>\n",
       "      <td>kindergarten</td>\n",
       "      <td>add-subtract</td>\n",
       "      <td>0.0</td>\n",
       "      <td>0.0</td>\n",
       "    </tr>\n",
       "    <tr>\n",
       "      <th>3</th>\n",
       "      <td>K1</td>\n",
       "      <td>GK1_AN1</td>\n",
       "      <td>Add within 10</td>\n",
       "      <td>0.0</td>\n",
       "      <td>10.0</td>\n",
       "      <td>0</td>\n",
       "      <td>NaN</td>\n",
       "      <td>Sep 29th, 4:48PM</td>\n",
       "      <td>Oct 8th, 11:59PM</td>\n",
       "      <td>Exercise</td>\n",
       "      <td>Missing</td>\n",
       "      <td>kindergarten</td>\n",
       "      <td>add-subtract</td>\n",
       "      <td>0.0</td>\n",
       "      <td>0.0</td>\n",
       "    </tr>\n",
       "    <tr>\n",
       "      <th>4</th>\n",
       "      <td>K1</td>\n",
       "      <td>GK1_EC1</td>\n",
       "      <td>Add within 10</td>\n",
       "      <td>0.0</td>\n",
       "      <td>10.0</td>\n",
       "      <td>0</td>\n",
       "      <td>NaN</td>\n",
       "      <td>Sep 29th, 4:48PM</td>\n",
       "      <td>Oct 8th, 11:59PM</td>\n",
       "      <td>Exercise</td>\n",
       "      <td>Missing</td>\n",
       "      <td>kindergarten</td>\n",
       "      <td>add-subtract</td>\n",
       "      <td>0.0</td>\n",
       "      <td>0.0</td>\n",
       "    </tr>\n",
       "  </tbody>\n",
       "</table>\n",
       "</div>"
      ],
      "text/plain": [
       "  Class Grade Level Student ID Assignment Name  Score Best Ever  \\\n",
       "0                K1    GK1_AK1   Add within 10              0.0   \n",
       "1                K1    GK1_AL1   Add within 10              0.0   \n",
       "2                K1    GK1_AH1   Add within 10              0.0   \n",
       "3                K1    GK1_AN1   Add within 10              0.0   \n",
       "4                K1    GK1_EC1   Add within 10              0.0   \n",
       "\n",
       "   Points Possible  Number Of Attempts Most Recent Completion Date  \\\n",
       "0             10.0                   0                         NaN   \n",
       "1             10.0                   0                         NaN   \n",
       "2             10.0                   0                         NaN   \n",
       "3             10.0                   0                         NaN   \n",
       "4             10.0                   0                         NaN   \n",
       "\n",
       "         Start Date          Due Date Assignment Type Progress  \\\n",
       "0  Sep 29th, 4:48PM  Oct 8th, 11:59PM        Exercise  Missing   \n",
       "1  Sep 29th, 4:48PM  Oct 8th, 11:59PM        Exercise  Missing   \n",
       "2  Sep 29th, 4:48PM  Oct 8th, 11:59PM        Exercise  Missing   \n",
       "3  Sep 29th, 4:48PM  Oct 8th, 11:59PM        Exercise  Missing   \n",
       "4  Sep 29th, 4:48PM  Oct 8th, 11:59PM        Exercise  Missing   \n",
       "\n",
       "  Assignment Grade Level    Unit Topic  Average Number Of Attempts  \\\n",
       "0           kindergarten  add-subtract                         0.0   \n",
       "1           kindergarten  add-subtract                         0.0   \n",
       "2           kindergarten  add-subtract                         0.0   \n",
       "3           kindergarten  add-subtract                         0.0   \n",
       "4           kindergarten  add-subtract                         0.0   \n",
       "\n",
       "   Weighted Score  \n",
       "0             0.0  \n",
       "1             0.0  \n",
       "2             0.0  \n",
       "3             0.0  \n",
       "4             0.0  "
      ]
     },
     "execution_count": 2,
     "metadata": {},
     "output_type": "execute_result"
    }
   ],
   "source": [
    "# Import data\n",
    "df = pd.read_csv('..\\Resources\\K_1-Math-Weighted Scores.csv')\n",
    "df.head()"
   ]
  },
  {
   "cell_type": "markdown",
   "metadata": {},
   "source": [
    "## Visualizations\n",
    "1. Student Summary\n",
    "- Average Score Overall = sum(weighted score) / sum(total points possible)\n",
    "- Completed Assignments\n",
    "- Missing Assignments\n",
    "- Avg Number of attempts\n",
    "- Avg quiz score\n",
    "- Avg Unit Test score\n",
    "- Top Unit Topic - highest average score grouped by Unit topic - Bar Chart of Unit topics\n",
    "\n",
    "2. Student Class Comparison\n",
    "- box plot - Student performance among class (for all units, topics, assignments)\n",
    "- box plot - student performance among class (for all quizzes)\n",
    "- box plot - student performance among class (for all unit test scores)"
   ]
  },
  {
   "cell_type": "markdown",
   "metadata": {},
   "source": [
    "### Student Summary: Top Unit Topic\n",
    "We will create a bar chart of each individual students' average unit topic scores. This will the the combined average of all the student assignments, quizzes, and unit tests."
   ]
  },
  {
   "cell_type": "code",
   "execution_count": 3,
   "metadata": {},
   "outputs": [
    {
     "data": {
      "text/plain": [
       "array(['GK1_KM1', 'GK1_TL1', 'GK1_NE1', 'GK1_AK1', 'GK1_AN1'],\n",
       "      dtype=object)"
      ]
     },
     "execution_count": 3,
     "metadata": {},
     "output_type": "execute_result"
    }
   ],
   "source": [
    "# Students with scores\n",
    "df.loc[df['Weighted Score'] > 0, 'Student ID'].unique()"
   ]
  },
  {
   "cell_type": "code",
   "execution_count": 4,
   "metadata": {},
   "outputs": [],
   "source": [
    "# test on one student first\n",
    "sample_stud = df.loc[df['Student ID'] == 'GK1_KM1']"
   ]
  },
  {
   "cell_type": "code",
   "execution_count": 5,
   "metadata": {},
   "outputs": [
    {
     "data": {
      "text/plain": [
       "Index(['Unit Topic', 'Score Best Ever', 'Points Possible',\n",
       "       'Number Of Attempts', 'Average Number Of Attempts', 'Weighted Score'],\n",
       "      dtype='object')"
      ]
     },
     "execution_count": 5,
     "metadata": {},
     "output_type": "execute_result"
    }
   ],
   "source": [
    "# Group data by the unit topic and take the average of their weighted scores\n",
    "sample_stud_unit_avg = sample_stud.groupby(['Unit Topic']).mean('Weighted Score')\n",
    "sample_stud_unit_avg = sample_stud_unit_avg.reset_index()\n",
    "sample_stud_unit_avg.columns\n"
   ]
  },
  {
   "cell_type": "code",
   "execution_count": 38,
   "metadata": {},
   "outputs": [
    {
     "data": {
      "text/plain": [
       "Index(['Unit Topic', 'Total Score Best Ever', 'Total Points Possible',\n",
       "       'Total Number Of Attempts', 'Total Weighted Score', 'Student Flag',\n",
       "       'Unit Topic % Score'],\n",
       "      dtype='object')"
      ]
     },
     "execution_count": 38,
     "metadata": {},
     "output_type": "execute_result"
    }
   ],
   "source": [
    "# Group data by the unit topic and take the sum of their weighted scores\n",
    "sample_stud_unit_sum = sample_stud.filter(['Unit Topic', 'Score Best Ever', 'Points Possible', 'Number Of Attempts', 'Weighted Score']\n",
    "                                          ).groupby(['Unit Topic']).sum()\n",
    "sample_stud_unit_sum = sample_stud_unit_sum.add_prefix('Total ')\n",
    "sample_stud_unit_sum = sample_stud_unit_sum.reset_index()\n",
    "\n",
    "# Find the percentage of weighted score to total points possible per unit\n",
    "sample_stud_unit_sum['Student Flag'],sample_stud_unit_sum['Unit Topic % Score'] = 'Y',round(sample_stud_unit_sum['Total Weighted Score']/sample_stud_unit_sum['Total Points Possible']*100, 2)\n",
    "temp = sample_stud_unit_sum.filter(['Unit Topic', 'Total Score Best Ever', 'Total Points Possible',\n",
    "       'Total Number Of Attempts', 'Total Weighted Score'])\n",
    "temp['Student Flag'],temp['Unit Topic % Score'] = 'N', 100 - sample_stud_unit_sum['Unit Topic % Score']\n",
    "sample_stud_unit_sum =  pd.concat([sample_stud_unit_sum, temp])\n",
    "sample_stud_unit_sum.columns"
   ]
  },
  {
   "cell_type": "code",
   "execution_count": 6,
   "metadata": {},
   "outputs": [
    {
     "data": {
      "text/html": [
       "<div>\n",
       "<style scoped>\n",
       "    .dataframe tbody tr th:only-of-type {\n",
       "        vertical-align: middle;\n",
       "    }\n",
       "\n",
       "    .dataframe tbody tr th {\n",
       "        vertical-align: top;\n",
       "    }\n",
       "\n",
       "    .dataframe thead th {\n",
       "        text-align: right;\n",
       "    }\n",
       "</style>\n",
       "<table border=\"1\" class=\"dataframe\">\n",
       "  <thead>\n",
       "    <tr style=\"text-align: right;\">\n",
       "      <th></th>\n",
       "      <th>Unit Topic</th>\n",
       "      <th>Score Best Ever</th>\n",
       "      <th>Points Possible</th>\n",
       "      <th>Number Of Attempts</th>\n",
       "      <th>Average Number Of Attempts</th>\n",
       "      <th>Weighted Score</th>\n",
       "    </tr>\n",
       "  </thead>\n",
       "  <tbody>\n",
       "    <tr>\n",
       "      <th>0</th>\n",
       "      <td>add-subtract</td>\n",
       "      <td>1.400000</td>\n",
       "      <td>9.400000</td>\n",
       "      <td>0.200000</td>\n",
       "      <td>0.200000</td>\n",
       "      <td>1.400000</td>\n",
       "    </tr>\n",
       "    <tr>\n",
       "      <th>1</th>\n",
       "      <td>counting</td>\n",
       "      <td>5.230769</td>\n",
       "      <td>7.615385</td>\n",
       "      <td>1.230769</td>\n",
       "      <td>1.487179</td>\n",
       "      <td>4.448718</td>\n",
       "    </tr>\n",
       "    <tr>\n",
       "      <th>2</th>\n",
       "      <td>place-value</td>\n",
       "      <td>7.000000</td>\n",
       "      <td>7.000000</td>\n",
       "      <td>2.000000</td>\n",
       "      <td>1.500000</td>\n",
       "      <td>4.666667</td>\n",
       "    </tr>\n",
       "  </tbody>\n",
       "</table>\n",
       "</div>"
      ],
      "text/plain": [
       "     Unit Topic  Score Best Ever  Points Possible  Number Of Attempts  \\\n",
       "0  add-subtract         1.400000         9.400000            0.200000   \n",
       "1      counting         5.230769         7.615385            1.230769   \n",
       "2   place-value         7.000000         7.000000            2.000000   \n",
       "\n",
       "   Average Number Of Attempts  Weighted Score  \n",
       "0                    0.200000        1.400000  \n",
       "1                    1.487179        4.448718  \n",
       "2                    1.500000        4.666667  "
      ]
     },
     "execution_count": 6,
     "metadata": {},
     "output_type": "execute_result"
    }
   ],
   "source": [
    "sample_stud_unit_avg"
   ]
  },
  {
   "cell_type": "code",
   "execution_count": 39,
   "metadata": {},
   "outputs": [
    {
     "data": {
      "text/html": [
       "<div>\n",
       "<style scoped>\n",
       "    .dataframe tbody tr th:only-of-type {\n",
       "        vertical-align: middle;\n",
       "    }\n",
       "\n",
       "    .dataframe tbody tr th {\n",
       "        vertical-align: top;\n",
       "    }\n",
       "\n",
       "    .dataframe thead th {\n",
       "        text-align: right;\n",
       "    }\n",
       "</style>\n",
       "<table border=\"1\" class=\"dataframe\">\n",
       "  <thead>\n",
       "    <tr style=\"text-align: right;\">\n",
       "      <th></th>\n",
       "      <th>Unit Topic</th>\n",
       "      <th>Total Score Best Ever</th>\n",
       "      <th>Total Points Possible</th>\n",
       "      <th>Total Number Of Attempts</th>\n",
       "      <th>Total Weighted Score</th>\n",
       "      <th>Student Flag</th>\n",
       "      <th>Unit Topic % Score</th>\n",
       "    </tr>\n",
       "  </thead>\n",
       "  <tbody>\n",
       "    <tr>\n",
       "      <th>0</th>\n",
       "      <td>add-subtract</td>\n",
       "      <td>14.0</td>\n",
       "      <td>94.0</td>\n",
       "      <td>2</td>\n",
       "      <td>14.000000</td>\n",
       "      <td>Y</td>\n",
       "      <td>14.89</td>\n",
       "    </tr>\n",
       "    <tr>\n",
       "      <th>1</th>\n",
       "      <td>counting</td>\n",
       "      <td>68.0</td>\n",
       "      <td>99.0</td>\n",
       "      <td>16</td>\n",
       "      <td>57.833333</td>\n",
       "      <td>Y</td>\n",
       "      <td>58.42</td>\n",
       "    </tr>\n",
       "    <tr>\n",
       "      <th>2</th>\n",
       "      <td>place-value</td>\n",
       "      <td>7.0</td>\n",
       "      <td>7.0</td>\n",
       "      <td>2</td>\n",
       "      <td>4.666667</td>\n",
       "      <td>Y</td>\n",
       "      <td>66.67</td>\n",
       "    </tr>\n",
       "    <tr>\n",
       "      <th>0</th>\n",
       "      <td>add-subtract</td>\n",
       "      <td>14.0</td>\n",
       "      <td>94.0</td>\n",
       "      <td>2</td>\n",
       "      <td>14.000000</td>\n",
       "      <td>N</td>\n",
       "      <td>85.11</td>\n",
       "    </tr>\n",
       "    <tr>\n",
       "      <th>1</th>\n",
       "      <td>counting</td>\n",
       "      <td>68.0</td>\n",
       "      <td>99.0</td>\n",
       "      <td>16</td>\n",
       "      <td>57.833333</td>\n",
       "      <td>N</td>\n",
       "      <td>41.58</td>\n",
       "    </tr>\n",
       "    <tr>\n",
       "      <th>2</th>\n",
       "      <td>place-value</td>\n",
       "      <td>7.0</td>\n",
       "      <td>7.0</td>\n",
       "      <td>2</td>\n",
       "      <td>4.666667</td>\n",
       "      <td>N</td>\n",
       "      <td>33.33</td>\n",
       "    </tr>\n",
       "  </tbody>\n",
       "</table>\n",
       "</div>"
      ],
      "text/plain": [
       "     Unit Topic  Total Score Best Ever  Total Points Possible  \\\n",
       "0  add-subtract                   14.0                   94.0   \n",
       "1      counting                   68.0                   99.0   \n",
       "2   place-value                    7.0                    7.0   \n",
       "0  add-subtract                   14.0                   94.0   \n",
       "1      counting                   68.0                   99.0   \n",
       "2   place-value                    7.0                    7.0   \n",
       "\n",
       "   Total Number Of Attempts  Total Weighted Score Student Flag  \\\n",
       "0                         2             14.000000            Y   \n",
       "1                        16             57.833333            Y   \n",
       "2                         2              4.666667            Y   \n",
       "0                         2             14.000000            N   \n",
       "1                        16             57.833333            N   \n",
       "2                         2              4.666667            N   \n",
       "\n",
       "   Unit Topic % Score  \n",
       "0               14.89  \n",
       "1               58.42  \n",
       "2               66.67  \n",
       "0               85.11  \n",
       "1               41.58  \n",
       "2               33.33  "
      ]
     },
     "execution_count": 39,
     "metadata": {},
     "output_type": "execute_result"
    }
   ],
   "source": [
    "sample_stud_unit_sum"
   ]
  },
  {
   "cell_type": "code",
   "execution_count": 2,
   "metadata": {},
   "outputs": [
    {
     "ename": "NameError",
     "evalue": "name 'px' is not defined",
     "output_type": "error",
     "traceback": [
      "\u001b[1;31m---------------------------------------------------------------------------\u001b[0m",
      "\u001b[1;31mNameError\u001b[0m                                 Traceback (most recent call last)",
      "Cell \u001b[1;32mIn[2], line 1\u001b[0m\n\u001b[1;32m----> 1\u001b[0m unit_topic_bar \u001b[38;5;241m=\u001b[39m \u001b[43mpx\u001b[49m\u001b[38;5;241m.\u001b[39mbar(sample_stud_unit_sum, x\u001b[38;5;241m=\u001b[39m\u001b[38;5;124m'\u001b[39m\u001b[38;5;124mUnit Topic\u001b[39m\u001b[38;5;124m'\u001b[39m, y\u001b[38;5;241m=\u001b[39m\u001b[38;5;124m'\u001b[39m\u001b[38;5;124mUnit Topic \u001b[39m\u001b[38;5;124m%\u001b[39m\u001b[38;5;124m Score\u001b[39m\u001b[38;5;124m'\u001b[39m,\n\u001b[0;32m      2\u001b[0m              color\u001b[38;5;241m=\u001b[39m\u001b[38;5;124m'\u001b[39m\u001b[38;5;124mStudent Flag\u001b[39m\u001b[38;5;124m'\u001b[39m, color_discrete_sequence\u001b[38;5;241m=\u001b[39m [\u001b[38;5;124m'\u001b[39m\u001b[38;5;124m#8FDAD5\u001b[39m\u001b[38;5;124m'\u001b[39m, \u001b[38;5;124m'\u001b[39m\u001b[38;5;124m#E0E0E0\u001b[39m\u001b[38;5;124m'\u001b[39m],\n\u001b[0;32m      3\u001b[0m              title \u001b[38;5;241m=\u001b[39m \u001b[38;5;124m'\u001b[39m\u001b[38;5;124mUnit Topic Performance\u001b[39m\u001b[38;5;124m'\u001b[39m)\n\u001b[0;32m      4\u001b[0m unit_topic_bar\u001b[38;5;241m.\u001b[39mshow()\n",
      "\u001b[1;31mNameError\u001b[0m: name 'px' is not defined"
     ]
    }
   ],
   "source": [
    "unit_topic_bar = px.bar(sample_stud_unit_sum, x='Unit Topic', y='Unit Topic % Score',\n",
    "             color='Student Flag', color_discrete_sequence= ['#8FDAD5', '#E0E0E0'],\n",
    "             title = 'Unit Topic Performance')\n",
    "unit_topic_bar.show()"
   ]
  }
 ],
 "metadata": {
  "kernelspec": {
   "display_name": "Python 3",
   "language": "python",
   "name": "python3"
  },
  "language_info": {
   "codemirror_mode": {
    "name": "ipython",
    "version": 3
   },
   "file_extension": ".py",
   "mimetype": "text/x-python",
   "name": "python",
   "nbconvert_exporter": "python",
   "pygments_lexer": "ipython3",
   "version": "3.11.9"
  }
 },
 "nbformat": 4,
 "nbformat_minor": 2
}
